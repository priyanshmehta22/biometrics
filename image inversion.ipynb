import numpy as np
from skimage.io import imread
from skimage.color import rgb2lab, lab2rgb
import matplotlib.pylab as plt

im = imread('biometrics.jfif')
im1 = rgb2lab(im)
im1.shape
im1[...,1]=im1[...,2]=0
plt.figure(figsize=(8,6))
plt.subplot(121)
plt.imshow(im)
plt.imshow(im1)

plt.axis('off')
plt.title('grayscale', size=20)

#image inversion
im1= rgb2lab(im)
im1[...,0]=np.max(im1[...,0]- im1[...,0])
im1=lab2rgb(im1)
plt.figure(figsize=(8,6))
plt.subplot(121)
plt.imshow(im)
plt.imshow(im1)

plt.axis('off')
plt.title('inverted', size=20)
